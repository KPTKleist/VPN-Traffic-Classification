{
 "cells": [
  {
   "cell_type": "markdown",
   "id": "a93696a2",
   "metadata": {},
   "source": [
    "## Load Libraries"
   ]
  },
  {
   "cell_type": "code",
   "execution_count": 1,
   "id": "e3b2fcb6",
   "metadata": {},
   "outputs": [],
   "source": [
    "import matplotlib.pyplot as plt\n",
    "import numpy as np\n",
    "import os\n",
    "import PIL\n",
    "import tensorflow as tf\n",
    "import pathlib\n",
    "\n",
    "from tensorflow import keras\n",
    "from tensorflow.keras import layers\n",
    "from tensorflow.keras.models import Sequential"
   ]
  },
  {
   "cell_type": "markdown",
   "id": "b0e7dbda",
   "metadata": {},
   "source": [
    "## Load Dataset"
   ]
  },
  {
   "cell_type": "code",
   "execution_count": 2,
   "id": "dadffde2",
   "metadata": {},
   "outputs": [],
   "source": [
    "data_dir = './VPN_Traffic/'\n",
    "\n",
    "batch_size = 32\n",
    "img_height = 32\n",
    "img_width = 32\n",
    "epochs = 20"
   ]
  },
  {
   "cell_type": "markdown",
   "id": "c2309e66",
   "metadata": {},
   "source": [
    "#### Split Training and Validation Sets"
   ]
  },
  {
   "cell_type": "code",
   "execution_count": 3,
   "id": "81bd069a",
   "metadata": {},
   "outputs": [
    {
     "name": "stdout",
     "output_type": "stream",
     "text": [
      "Found 68338 files belonging to 5 classes.\n",
      "Using 54671 files for training.\n"
     ]
    }
   ],
   "source": [
    "train_ds = tf.keras.preprocessing.image_dataset_from_directory(\n",
    "    data_dir,\n",
    "    labels=\"inferred\",\n",
    "    validation_split=0.2,\n",
    "    subset=\"training\",\n",
    "    seed=69,\n",
    "    color_mode=\"grayscale\",\n",
    "    image_size=(img_height, img_width),\n",
    "    batch_size=batch_size)"
   ]
  },
  {
   "cell_type": "code",
   "execution_count": 4,
   "id": "23bf88dc",
   "metadata": {},
   "outputs": [
    {
     "name": "stdout",
     "output_type": "stream",
     "text": [
      "Found 68338 files belonging to 5 classes.\n",
      "Using 13667 files for validation.\n"
     ]
    }
   ],
   "source": [
    "val_ds = tf.keras.preprocessing.image_dataset_from_directory(\n",
    "    data_dir,\n",
    "    labels=\"inferred\",\n",
    "    validation_split=0.2,\n",
    "    subset=\"validation\",\n",
    "    seed=69,\n",
    "    color_mode=\"grayscale\",\n",
    "    image_size=(img_height, img_width),\n",
    "    batch_size=batch_size)"
   ]
  },
  {
   "cell_type": "code",
   "execution_count": 5,
   "id": "59621791",
   "metadata": {},
   "outputs": [
    {
     "name": "stdout",
     "output_type": "stream",
     "text": [
      "['audio', 'chat', 'email', 'files', 'video']\n"
     ]
    }
   ],
   "source": [
    "class_names = train_ds.class_names\n",
    "print(class_names)"
   ]
  },
  {
   "cell_type": "markdown",
   "id": "c5a1fead",
   "metadata": {},
   "source": [
    "#### Batch Shapes"
   ]
  },
  {
   "cell_type": "code",
   "execution_count": 6,
   "id": "0bfc222b",
   "metadata": {},
   "outputs": [
    {
     "name": "stdout",
     "output_type": "stream",
     "text": [
      "(32, 32, 32, 1)\n",
      "(32,)\n"
     ]
    }
   ],
   "source": [
    "for image_batch, labels_batch in train_ds:\n",
    "    print(image_batch.shape)\n",
    "    print(labels_batch.shape)\n",
    "    break"
   ]
  },
  {
   "cell_type": "markdown",
   "id": "73e81439",
   "metadata": {},
   "source": [
    "#### Dataset Performance Optimization"
   ]
  },
  {
   "cell_type": "code",
   "execution_count": 7,
   "id": "e343d01e",
   "metadata": {},
   "outputs": [],
   "source": [
    "AUTOTUNE = tf.data.AUTOTUNE\n",
    "\n",
    "train_ds = train_ds.cache().shuffle(1000).prefetch(buffer_size=AUTOTUNE)\n",
    "val_ds = val_ds.cache().prefetch(buffer_size=AUTOTUNE)"
   ]
  },
  {
   "cell_type": "markdown",
   "id": "9e42d172",
   "metadata": {},
   "source": [
    "## Create The Model"
   ]
  },
  {
   "cell_type": "code",
   "execution_count": 8,
   "id": "0987b4f0",
   "metadata": {},
   "outputs": [
    {
     "name": "stdout",
     "output_type": "stream",
     "text": [
      "Model: \"sequential\"\n",
      "_________________________________________________________________\n",
      "Layer (type)                 Output Shape              Param #   \n",
      "=================================================================\n",
      "rescaling (Rescaling)        (None, 32, 32, 1)         0         \n",
      "_________________________________________________________________\n",
      "conv2d (Conv2D)              (None, 32, 32, 16)        160       \n",
      "_________________________________________________________________\n",
      "max_pooling2d (MaxPooling2D) (None, 16, 16, 16)        0         \n",
      "_________________________________________________________________\n",
      "conv2d_1 (Conv2D)            (None, 16, 16, 32)        4640      \n",
      "_________________________________________________________________\n",
      "max_pooling2d_1 (MaxPooling2 (None, 8, 8, 32)          0         \n",
      "_________________________________________________________________\n",
      "conv2d_2 (Conv2D)            (None, 8, 8, 64)          18496     \n",
      "_________________________________________________________________\n",
      "max_pooling2d_2 (MaxPooling2 (None, 4, 4, 64)          0         \n",
      "_________________________________________________________________\n",
      "dropout (Dropout)            (None, 4, 4, 64)          0         \n",
      "_________________________________________________________________\n",
      "flatten (Flatten)            (None, 1024)              0         \n",
      "_________________________________________________________________\n",
      "dense (Dense)                (None, 128)               131200    \n",
      "_________________________________________________________________\n",
      "dense_1 (Dense)              (None, 5)                 645       \n",
      "=================================================================\n",
      "Total params: 155,141\n",
      "Trainable params: 155,141\n",
      "Non-trainable params: 0\n",
      "_________________________________________________________________\n"
     ]
    }
   ],
   "source": [
    "num_classes = 5\n",
    "\n",
    "model = Sequential([\n",
    "    layers.experimental.preprocessing.Rescaling(1./255, input_shape=(img_height, img_width, 1)),\n",
    "    \n",
    "    layers.Conv2D(16, 3, padding='same', activation='relu'),\n",
    "    layers.MaxPooling2D(),\n",
    "    \n",
    "    layers.Conv2D(32, 3, padding='same', activation='relu'),\n",
    "    layers.MaxPooling2D(),\n",
    "    \n",
    "    layers.Conv2D(64, 3, padding='same', activation='relu'),\n",
    "    layers.MaxPooling2D(),\n",
    "    \n",
    "    layers.Dropout(0.5),\n",
    "    layers.Flatten(),\n",
    "    layers.Dense(128, activation='relu'),\n",
    "    layers.Dense(num_classes)\n",
    "])\n",
    "\n",
    "model.compile(optimizer='adam',\n",
    "              loss=tf.keras.losses.SparseCategoricalCrossentropy(from_logits=True),\n",
    "              metrics=['accuracy'])\n",
    "\n",
    "model.summary()"
   ]
  },
  {
   "cell_type": "markdown",
   "id": "3002f545",
   "metadata": {},
   "source": [
    "## Training"
   ]
  },
  {
   "cell_type": "code",
   "execution_count": 9,
   "id": "554e2b35",
   "metadata": {},
   "outputs": [],
   "source": [
    "import shutil\n",
    "logdir='./callbacks_alexnet'\n",
    "\n",
    "if os.path.exists(logdir):\n",
    "    shutil.rmtree(logdir) \n",
    "os.mkdir(logdir)\n",
    "\n",
    "output_model_file=os.path.join(logdir,\"model.h5\")\n",
    "\n",
    "callbacks = [\n",
    "    keras.callbacks.TensorBoard(logdir),\n",
    "    keras.callbacks.ModelCheckpoint(output_model_file,save_best_only=True)\n",
    "]"
   ]
  },
  {
   "cell_type": "code",
   "execution_count": 10,
   "id": "543df7e8",
   "metadata": {},
   "outputs": [
    {
     "name": "stdout",
     "output_type": "stream",
     "text": [
      "Epoch 1/20\n",
      "1709/1709 [==============================] - 11s 4ms/step - loss: 0.6510 - accuracy: 0.7823 - val_loss: 0.5004 - val_accuracy: 0.8382\n",
      "Epoch 2/20\n",
      "1709/1709 [==============================] - 4s 2ms/step - loss: 0.5078 - accuracy: 0.8417 - val_loss: 0.4517 - val_accuracy: 0.8607\n",
      "Epoch 3/20\n",
      "1709/1709 [==============================] - 4s 2ms/step - loss: 0.4671 - accuracy: 0.8569 - val_loss: 0.4164 - val_accuracy: 0.8751\n",
      "Epoch 4/20\n",
      "1709/1709 [==============================] - 4s 2ms/step - loss: 0.4417 - accuracy: 0.8667 - val_loss: 0.4045 - val_accuracy: 0.8792\n",
      "Epoch 5/20\n",
      "1709/1709 [==============================] - 4s 2ms/step - loss: 0.4238 - accuracy: 0.8727 - val_loss: 0.3899 - val_accuracy: 0.8846\n",
      "Epoch 6/20\n",
      "1709/1709 [==============================] - 4s 2ms/step - loss: 0.4124 - accuracy: 0.8763 - val_loss: 0.3809 - val_accuracy: 0.8880\n",
      "Epoch 7/20\n",
      "1709/1709 [==============================] - 4s 2ms/step - loss: 0.3982 - accuracy: 0.8822 - val_loss: 0.3748 - val_accuracy: 0.8898\n",
      "Epoch 8/20\n",
      "1709/1709 [==============================] - 4s 2ms/step - loss: 0.3908 - accuracy: 0.8844 - val_loss: 0.3710 - val_accuracy: 0.8891\n",
      "Epoch 9/20\n",
      "1709/1709 [==============================] - 4s 2ms/step - loss: 0.3818 - accuracy: 0.8871 - val_loss: 0.3647 - val_accuracy: 0.8939\n",
      "Epoch 10/20\n",
      "1709/1709 [==============================] - 4s 2ms/step - loss: 0.3733 - accuracy: 0.8890 - val_loss: 0.3631 - val_accuracy: 0.8957\n",
      "Epoch 11/20\n",
      "1709/1709 [==============================] - 4s 2ms/step - loss: 0.3685 - accuracy: 0.8913 - val_loss: 0.3594 - val_accuracy: 0.8954\n",
      "Epoch 12/20\n",
      "1709/1709 [==============================] - 4s 2ms/step - loss: 0.3633 - accuracy: 0.8933 - val_loss: 0.3537 - val_accuracy: 0.8955\n",
      "Epoch 13/20\n",
      "1709/1709 [==============================] - 4s 2ms/step - loss: 0.3584 - accuracy: 0.8944 - val_loss: 0.3531 - val_accuracy: 0.8968\n",
      "Epoch 14/20\n",
      "1709/1709 [==============================] - 4s 2ms/step - loss: 0.3508 - accuracy: 0.8966 - val_loss: 0.3524 - val_accuracy: 0.8979\n",
      "Epoch 15/20\n",
      "1709/1709 [==============================] - 4s 2ms/step - loss: 0.3475 - accuracy: 0.8980 - val_loss: 0.3478 - val_accuracy: 0.8994\n",
      "Epoch 16/20\n",
      "1709/1709 [==============================] - 4s 2ms/step - loss: 0.3453 - accuracy: 0.8987 - val_loss: 0.3472 - val_accuracy: 0.8992\n",
      "Epoch 17/20\n",
      "1709/1709 [==============================] - 4s 2ms/step - loss: 0.3399 - accuracy: 0.8997 - val_loss: 0.3493 - val_accuracy: 0.8998\n",
      "Epoch 18/20\n",
      "1709/1709 [==============================] - 4s 2ms/step - loss: 0.3371 - accuracy: 0.9012 - val_loss: 0.3494 - val_accuracy: 0.9013\n",
      "Epoch 19/20\n",
      "1709/1709 [==============================] - 4s 2ms/step - loss: 0.3329 - accuracy: 0.9022 - val_loss: 0.3454 - val_accuracy: 0.9002\n",
      "Epoch 20/20\n",
      "1709/1709 [==============================] - 4s 2ms/step - loss: 0.3300 - accuracy: 0.9038 - val_loss: 0.3456 - val_accuracy: 0.8997\n"
     ]
    }
   ],
   "source": [
    "history = model.fit(train_ds, epochs=epochs, validation_data=(val_ds), callbacks=callbacks)"
   ]
  },
  {
   "cell_type": "code",
   "execution_count": 11,
   "id": "9d963993",
   "metadata": {},
   "outputs": [
    {
     "data": {
      "image/png": "[encoded data removed]",
      "text/plain": [
       "<Figure size 1008x432 with 2 Axes>"
      ]
     },
     "metadata": {
      "needs_background": "light"
     },
     "output_type": "display_data"
    }
   ],
   "source": [
    "acc = history.history['accuracy']\n",
    "val_acc = history.history['val_accuracy']\n",
    "\n",
    "loss = history.history['loss']\n",
    "val_loss = history.history['val_loss']\n",
    "\n",
    "epochs_range = range(epochs)\n",
    "\n",
    "plt.figure(figsize=(14, 6))\n",
    "plt.subplot(1, 2, 1)\n",
    "plt.plot(epochs_range, acc, label='Training Accuracy')\n",
    "plt.plot(epochs_range, val_acc, label='Validation Accuracy')\n",
    "plt.legend(loc='lower right')\n",
    "plt.title('Training and Validation Accuracy')\n",
    "\n",
    "plt.subplot(1, 2, 2)\n",
    "plt.plot(epochs_range, loss, label='Training Loss')\n",
    "plt.plot(epochs_range, val_loss, label='Validation Loss')\n",
    "plt.legend(loc='upper right')\n",
    "plt.title('Training and Validation Loss')\n",
    "plt.show()"
   ]
  },
  {
   "cell_type": "markdown",
   "id": "83fca1d3",
   "metadata": {},
   "source": [
    "## Inference"
   ]
  },
  {
   "cell_type": "code",
   "execution_count": 12,
   "id": "b658dd13",
   "metadata": {},
   "outputs": [
    {
     "name": "stdout",
     "output_type": "stream",
     "text": [
      "This packet most likely belongs to chat with a 99.97 percent confidence.\n"
     ]
    }
   ],
   "source": [
    "img_path = './VPN_Traffic/chat/69.png'\n",
    "\n",
    "img = keras.preprocessing.image.load_img(\n",
    "    img_path, target_size=(img_height, img_width), color_mode=\"grayscale\"\n",
    ")\n",
    "\n",
    "img_array = keras.preprocessing.image.img_to_array(img)\n",
    "img_array = tf.expand_dims(img_array, 0)\n",
    "\n",
    "predictions = model.predict(img_array)\n",
    "score = tf.nn.softmax(predictions[0])\n",
    "\n",
    "print(\n",
    "    \"This packet most likely belongs to {} with a {:.2f} percent confidence.\"\n",
    "    .format(class_names[np.argmax(score)], 100 * np.max(score))\n",
    ")"
   ]
  },
  {
   "cell_type": "code",
   "execution_count": null,
   "id": "323e1d5c",
   "metadata": {},
   "outputs": [],
   "source": []
  }
 ],
 "metadata": {
  "kernelspec": {
   "display_name": "Python 3",
   "language": "python",
   "name": "python3"
  },
  "language_info": {
   "codemirror_mode": {
    "name": "ipython",
    "version": 3
   },
   "file_extension": ".py",
   "mimetype": "text/x-python",
   "name": "python",
   "nbconvert_exporter": "python",
   "pygments_lexer": "ipython3",
   "version": "3.6.8"
  }
 },
 "nbformat": 4,
 "nbformat_minor": 5
}
